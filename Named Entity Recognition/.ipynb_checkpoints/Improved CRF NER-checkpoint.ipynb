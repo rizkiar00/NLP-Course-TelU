{
 "cells": [
  {
   "cell_type": "code",
   "execution_count": 1,
   "metadata": {},
   "outputs": [],
   "source": [
    "from itertools import chain\n",
    "import nltk\n",
    "from sklearn.metrics import classification_report, confusion_matrix\n",
    "from sklearn.preprocessing import LabelBinarizer\n",
    "from sklearn.model_selection import train_test_split\n",
    "from sklearn_crfsuite.metrics import flat_classification_report\n",
    "import sklearn\n",
    "import pycrfsuite\n",
    "import numpy as np"
   ]
  },
  {
   "cell_type": "code",
   "execution_count": 2,
   "metadata": {},
   "outputs": [],
   "source": [
    "train_lines = []\n",
    "test_lines = []\n",
    "with open('kalimat_POS_NE_train.txt', 'r') as f:\n",
    "    train_lines = f.readlines()\n",
    "with open('kalimat_POS_NE_test.txt', 'r') as f:\n",
    "    test_lines = f.readlines()"
   ]
  },
  {
   "cell_type": "code",
   "execution_count": 3,
   "metadata": {},
   "outputs": [],
   "source": [
    "train_sents = []\n",
    "test_sents = []\n",
    "sent = []\n",
    "counter = 0\n",
    "classes = [\"B-PER\",\"I-PER\",\"B-ORG\",\"I-ORG\",\"B-LOC\",\"I-LOC\",\"O\"]"
   ]
  },
  {
   "cell_type": "code",
   "execution_count": 4,
   "metadata": {},
   "outputs": [
    {
     "name": "stdout",
     "output_type": "stream",
     "text": [
      "train sent = \n",
      "[('Kegiatan', 'NN', 'O'), ('Rapat', 'NN', 'O'), ('Pimpinan', 'NN', 'O'), ('Nasional', 'JJ', 'O'), ('dibuka', 'VBT', 'O'), ('oleh', 'IN', 'O'), ('Ketua', 'NN', 'O'), ('Umum', 'JJ', 'O'), ('AMI', 'NN', 'B-ORG'), ('pusat', 'NN', 'O'), (',', ',', 'O'), ('Putu', 'NNP', 'B-PER'), ('Supadma', 'NNP', 'I-PER'), ('Rudana', 'NNP', 'I-PER'), (',', ',', 'I-PER'), ('MBA', 'NNP', 'I-PER'), (',', ',', 'O'), ('Kamis', 'NN', 'O'), (',', ',', 'O'), ('3', 'CDP', 'O'), ('Oktober', 'NNP', 'O'), ('tahun', 'NN', 'O'), ('2019', 'CDP', 'O'), ('.', '.', 'O')]\n",
      "train sent = \n",
      "[('Menteri', 'NN', 'O'), ('Kelautan', 'NN', 'O'), ('dan', 'CC', 'O'), ('Perikanan', 'NN', 'O'), ('Susi', 'NNP', 'B-PER'), ('Pudjiastuti', 'NNP', 'I-PER'), ('meresmikan', 'VBT', 'O'), ('Cold', 'NN', 'O'), ('Storage', 'NN', 'O'), ('1.000', 'CDP', 'O'), ('ton', 'NN', 'O'), ('di', 'IN', 'O'), ('Penjaringan', 'NNP', 'B-LOC'), (',', ',', 'O'), ('Jakarta', 'NNP', 'B-LOC'), ('Utara', 'NN', 'I-LOC'), ('.', '.', 'O')]\n",
      "train sent = \n",
      "[('Sri', 'NN', 'B-PER'), ('Mulyani', 'NNP', 'I-PER'), ('Indrawati', 'NNP', 'I-PER'), ('berkesempatan', 'VBI', 'O'), ('untuk', 'IN', 'O'), ('meresmikan', 'VBT', 'O'), ('museum', 'NN', 'O'), ('dan', 'CC', 'O'), ('perpustakaan', 'NN', 'O'), ('baru', 'JJ', 'O'), ('milik', 'VBT', 'O'), ('Bea', 'NNP', 'B-ORG'), ('Cukai', 'NNP', 'I-ORG'), ('.', '.', 'O')]\n",
      "train sent = \n",
      "[('Presiden', 'NN', 'O'), ('Jokowi', 'NNP', 'B-PER'), ('akan', 'MD', 'O'), ('meresmikan', 'VBT', 'O'), ('jembatan', 'NN', 'O'), ('Holtekamp', 'NN', 'O'), ('di', 'IN', 'O'), ('Jayapura', 'NNP', 'B-LOC'), (',', ',', 'I-LOC'), ('Papua', 'NNP', 'I-LOC'), ('.', '.', 'O')]\n",
      "train sent = \n",
      "[('Presiden', 'NN', 'O'), ('Joko', 'NNP', 'B-PER'), ('Widodo', 'NNP', 'I-PER'), ('meresmikan', 'NNP', 'O'), ('pengoperasian', 'NNP', 'O'), ('Palapa', 'NNP', 'O'), ('Ring', 'NNP', 'O'), ('.', '.', 'O')]\n",
      "train sent = \n",
      "[('Menteri', 'NN', 'O'), ('Darmin', 'NN', 'B-PER'), ('resmikan', 'NN', 'O'), ('Kawasan', 'NN', 'B-LOC'), ('Ekonomi', 'NN', 'I-LOC'), ('Khusus', 'JJ', 'I-LOC'), ('Sorong', 'NNP', 'I-LOC'), ('.', '.', 'O')]\n",
      "train sent = \n",
      "[('Menteri', 'NN', 'O'), ('Pertahanan', 'NN', 'O'), ('Prabowo', 'NNP', 'B-PER'), ('Subianto', 'NNP', 'I-PER'), ('meresmikan', 'VBT', 'O'), ('patung', 'NN', 'O'), ('Panglima', 'NN', 'B-PER'), ('Besar', 'JJ', 'I-PER'), ('Jenderal', 'NN', 'I-PER'), ('Sudirman', 'NNP', 'I-PER'), ('.', '.', 'O')]\n",
      "train sent = \n",
      "[('Menteri', 'NN', 'O'), ('PUPR', 'NN', 'O'), ('Basuki', 'NN', 'B-PER'), ('Hadimuldjono', 'NNP', 'I-PER'), ('mewakili', 'VBT', 'O'), ('Presiden', 'NN', 'O'), ('Joko', 'NNP', 'B-PER'), ('Widodo', 'NNP', 'I-PER'), ('meresmikan', 'VBT', 'O'), ('Rumah', 'NN', 'O'), ('Susun', 'NNP', 'O'), ('(', 'OP', 'O'), ('Rusun', 'NNP', 'O'), (')', 'CP', 'O'), ('di', 'IN', 'O'), ('lingkungan', 'NN', 'O'), ('Pondok', 'NNP', 'B-ORG'), ('Pesantren', 'NNP', 'I-ORG'), ('.', '.', 'O')]\n",
      "train sent = \n",
      "[('Menteri', 'NN', 'O'), ('Agama', 'NN', 'O'), ('Republik', 'NN', 'O'), ('Indonesia', 'NNP', 'O'), (',', ',', 'O'), ('Jenderal', 'NN', 'O'), ('TNI', 'NNP', 'O'), ('(', 'OP', 'O'), ('Purn', 'NNP', 'O'), (')', 'CP', 'O'), ('Fachrul', 'NNP', 'B-PER'), ('Razi', 'NNP', 'I-PER'), ('meresmikan', 'VBT', 'O'), ('secara', 'IN', 'O'), ('simbolis', 'JJ', 'O'), ('penggunaan', 'NN', 'O'), ('tiga', 'CDP', 'O'), ('gedung', 'NN', 'O'), ('KUA', 'NN', 'B-ORG'), ('SBSN', 'NN', 'I-ORG'), ('di', 'IN', 'O'), ('Aceh', 'NNP', 'B-LOC'), ('.', '.', 'O')]\n",
      "test sent = \n",
      "[('Wakil', 'NN', 'O'), ('Presiden', 'NN', 'O'), ('Jusuf', 'NN', 'B-PER'), ('Kalla', 'NNP', 'B-PER'), ('(', 'OP', 'O'), ('JK', 'NN', 'O'), (')', 'CP', 'O'), ('meresmikan', 'VBT', 'O'), ('Indonesian', 'NNP', 'B-ORG'), ('Agency', 'NN', 'I-ORG'), ('for', 'NN', 'I-ORG'), ('International', 'FW', 'I-ORG'), ('Development', 'NNP', 'I-ORG'), ('(', 'OP', 'O'), ('AID', 'NNP', 'B-ORG'), (')', 'CP', 'O'), ('atau', 'CC', 'O'), ('Lembaga', 'NN', 'B-ORG'), ('Kerja', 'NN', 'I-ORG'), ('Sama', 'JJ', 'I-ORG'), ('Pembangunan', 'NN', 'I-ORG'), ('Internasional', 'NNP', 'I-ORG'), ('Indonesia', 'NNP', 'I-ORG'), ('.', '.', 'O'), ('Menteri', 'NNP', 'O'), ('Energi', 'NNP', 'O'), ('dan', 'CC', 'O'), ('Sumber', 'NN', 'O'), ('Daya', 'NN', 'O'), ('Mineral', 'NNP', 'O'), ('(', 'OP', 'O'), ('ESDM', 'NNP', 'O'), (')', 'CP', 'O'), ('Arifin', 'NNP', 'B-PER'), ('Tasrif', 'NNP', 'I-PER'), ('meresmikan', 'VBT', 'O'), ('survei', 'NN', 'O'), ('seismik', 'NN', 'O'), ('untuk', 'IN', 'O'), ('mencari', 'VBT', 'O'), ('cadangan', 'NN', 'O'), ('minyak', 'NN', 'O'), ('dan', 'CC', 'O'), ('gas', 'NN', 'O'), ('(', 'OP', 'O'), ('migas)', 'NN', 'O'), ('.', '.', 'O')]\n",
      "test sent = \n",
      "[('Menteri', 'NN', 'O'), ('PPN/Kepala', 'Kepala', 'O'), ('Bappenas', 'NNP', 'O'), (',', ',', 'O'), ('Bambang', 'NNP', 'O'), ('Brodjonegoro', 'NNP', 'O'), ('meresmikan', 'VBT', 'O'), ('Peluncuran', 'NN', 'O'), ('Sekolah', 'NN', 'O'), ('Terintegrasi', 'NN', 'O'), ('Berpola', 'NN', 'O'), ('Asrama', 'NN', 'O'), ('dan', 'CC', 'O'), ('Demonstrasi', 'NN', 'O'), ('.', '.', 'O')]\n",
      "test sent = \n",
      "[('Menteri', 'NN', 'O'), ('ESDM', 'NNP', 'O'), ('Ignasius', 'NNP', 'B-PER'), ('Jonan', 'NNP', 'I-PER'), ('bersama', 'IN', 'O'), ('Gubernur', 'NN', 'O'), ('Kalimantan', 'NN', 'O'), ('Timur', 'NN', 'O'), ('Awang', 'NN', 'B-PER'), ('Faroek', 'NNP', 'I-PER'), ('saat', 'SC', 'O'), ('meresmikan', 'VBT', 'O'), ('Sumur', 'NNP', 'O'), ('Bor', 'NNP', 'O'), ('di', 'IN', 'O'), ('Penajam', 'NN', 'B-LOC'), ('.', '.', 'O')]\n",
      "test sent = \n",
      "[('Menteri', 'NN', 'O'), ('Agama', 'NN', 'O'), ('RI', 'NNP', 'O'), (',', ',', 'O'), ('Bapak', 'NN', 'O'), ('Lukman', 'NN', 'B-PER'), ('Hakim', 'NN', 'I-PER'), ('Saifuddin', 'NNP', 'I-PER'), (',', ',', 'O'), ('Kamis', 'NN', 'O'), ('(', 'OP', 'O'), ('10/5', '5', 'O'), (')', 'CP', 'O'), ('melakukan', 'VBT', 'O'), ('kunjungan', 'NN', 'O'), ('kerja', 'NN', 'O'), ('ke', 'IN', 'O'), ('IAIN', 'NN', 'B-ORG'), ('Kerinci', 'NN', 'I-ORG'), ('dalam', 'IN', 'O'), ('rangka', 'NN', 'O'), ('meresmikan', 'VBT', 'O'), ('alih', 'NN', 'O'), ('status', 'NN', 'O'), ('IAIN', 'NN', 'B-ORG'), ('Kerinci', 'NN', 'I-ORG'), ('dari', 'IN', 'O'), ('STAIN', 'NN', 'B-ORG'), ('Kerinci', 'NN', 'I-ORG'), (',', ',', 'O'), (\"Ma'had\", 'NNP', 'B-ORG'), ('Al', 'NNP', 'I-ORG'), ('-', '-', 'I-ORG'), (\"Jami'ah\", 'NNP', 'I-ORG'), ('dan', 'CC', 'O'), ('Seminar', 'NN', 'O'), ('Nasional', 'JJ', 'O'), ('.', '.', 'O')]\n"
     ]
    }
   ],
   "source": [
    "for line in train_lines:\n",
    "    line = line.rstrip('\\n')\n",
    "    curr_tuple = ()\n",
    "    if len(line)>1:\n",
    "        line_part = line.split(\" \")\n",
    "        t = (line_part[0], line_part[1], line_part[2])\n",
    "        #print(t)\n",
    "        sent.append(t)\n",
    "    else:\n",
    "        print(\"train sent = \")\n",
    "        print(sent)\n",
    "        train_sents.append(sent)\n",
    "        sent = []\n",
    "        counter = counter+1\n",
    "counter = 0\n",
    "for line in test_lines:\n",
    "    line = line.rstrip('\\n')\n",
    "    curr_tuple = ()\n",
    "    if len(line)>1:\n",
    "        line_part = line.split(\" \")\n",
    "        t = (line_part[0], line_part[1], line_part[2])\n",
    "        #print(t)\n",
    "        sent.append(t)\n",
    "    else:\n",
    "        print(\"test sent = \")\n",
    "        print(sent)\n",
    "        test_sents.append(sent)\n",
    "        sent = []\n",
    "        counter = counter+1"
   ]
  },
  {
   "cell_type": "code",
   "execution_count": 5,
   "metadata": {},
   "outputs": [],
   "source": [
    "def word2features(sent, i):\n",
    "    word = sent[i][0]\n",
    "    postag = sent[i][1]\n",
    "    \n",
    "    features = {\n",
    "        'bias': 1.0, \n",
    "        'word.lower()': word.lower(), \n",
    "        'word[-3:]': word[-3:],\n",
    "        'word[-2:]': word[-2:],\n",
    "        'word.isupper()': word.isupper(),\n",
    "        'word.istitle()': word.istitle(),\n",
    "        'word.isdigit()': word.isdigit(),\n",
    "        'postag': postag,\n",
    "        'postag[:2]': postag[:2],\n",
    "    }\n",
    "    if i > 0:\n",
    "        word1 = sent[i-1][0]\n",
    "        postag1 = sent[i-1][1]\n",
    "        features.update({\n",
    "            '-1:word.lower()': word1.lower(),\n",
    "            '-1:word.istitle()': word1.istitle(),\n",
    "            '-1:word.isupper()': word1.isupper(),\n",
    "            '-1:postag': postag1,\n",
    "            '-1:postag[:2]': postag1[:2],\n",
    "        })\n",
    "    else:\n",
    "        features['BOS'] = True\n",
    "    if i < len(sent)-1:\n",
    "        word1 = sent[i+1][0]\n",
    "        postag1 = sent[i+1][1]\n",
    "        features.update({\n",
    "            '+1:word.lower()': word1.lower(),\n",
    "            '+1:word.istitle()': word1.istitle(),\n",
    "            '+1:word.isupper()': word1.isupper(),\n",
    "            '+1:postag': postag1,\n",
    "            '+1:postag[:2]': postag1[:2],\n",
    "        })\n",
    "    else:\n",
    "        features['EOS'] = True\n",
    "    return features"
   ]
  },
  {
   "cell_type": "code",
   "execution_count": 6,
   "metadata": {},
   "outputs": [],
   "source": [
    "def sent2features(sent):\n",
    "    return [word2features(sent, i) for i in range(len(sent))]\n",
    "\n",
    "def sent2labels(sent):\n",
    "    return [label for token, postag, label in sent]\n",
    "\n",
    "def sent2tokens(sent):\n",
    "    return [token for token, postag, label in sent]"
   ]
  },
  {
   "cell_type": "code",
   "execution_count": 7,
   "metadata": {},
   "outputs": [],
   "source": [
    "\n",
    "# ekstraksi fitur data train\n",
    "X_train = []\n",
    "y_train = []\n",
    "for s in train_sents:\n",
    "    for i in range(len(s)):\n",
    "        X_train.append(word2features(s,i))\n",
    "        y_train.append(s[i][2])"
   ]
  },
  {
   "cell_type": "code",
   "execution_count": 8,
   "metadata": {},
   "outputs": [],
   "source": [
    "\n",
    "# ekstraksi fitur data test\n",
    "X_test = []\n",
    "y_test = []\n",
    "for s in test_sents:\n",
    "    for i in range(len(s)):\n",
    "        X_test.append(word2features(s,i))\n",
    "        y_test.append(s[i][2])"
   ]
  },
  {
   "cell_type": "code",
   "execution_count": 25,
   "metadata": {},
   "outputs": [],
   "source": [
    "X_train = [sent2features(s) for s in train_sents]\n",
    "y_train = [sent2labels(s) for s in train_sents]\n",
    "\n",
    "X_test = [sent2features(s) for s in test_sents]\n",
    "y_test = [sent2labels(s) for s in test_sents]"
   ]
  },
  {
   "cell_type": "code",
   "execution_count": 28,
   "metadata": {},
   "outputs": [
    {
     "data": {
      "text/plain": [
       "CRF(algorithm='lbfgs', all_possible_states=None, all_possible_transitions=True,\n",
       "    averaging=None, c=None, c1=0.1, c2=0.1, calibration_candidates=None,\n",
       "    calibration_eta=None, calibration_max_trials=None, calibration_rate=None,\n",
       "    calibration_samples=None, delta=None, epsilon=None, error_sensitive=None,\n",
       "    gamma=None, keep_tempfiles=None, linesearch=None, max_iterations=100,\n",
       "    max_linesearch=None, min_freq=None, model_filename=None, num_memories=None,\n",
       "    pa_type=None, period=None, trainer_cls=None, variance=None, verbose=False)"
      ]
     },
     "execution_count": 28,
     "metadata": {},
     "output_type": "execute_result"
    }
   ],
   "source": [
    "import sklearn_crfsuite\n",
    "crf = sklearn_crfsuite.CRF(\n",
    "    algorithm='lbfgs',\n",
    "    c1=0.1,\n",
    "    c2=0.1,\n",
    "    max_iterations=100,\n",
    "    all_possible_transitions=True\n",
    ")\n",
    "crf.fit(X_train, y_train)"
   ]
  },
  {
   "cell_type": "code",
   "execution_count": 31,
   "metadata": {},
   "outputs": [
    {
     "name": "stdout",
     "output_type": "stream",
     "text": [
      "[['O', 'O', 'O', 'O', 'O', 'O', 'O', 'O', 'O', 'O', 'O', 'O', 'O', 'O', 'O', 'O', 'O', 'O', 'O', 'O', 'O', 'O', 'O', 'O', 'O', 'O', 'O', 'O', 'O', 'O', 'O', 'O', 'O', 'B-PER', 'I-PER', 'O', 'O', 'O', 'O', 'O', 'O', 'O', 'O', 'O', 'O', 'O', 'O'], ['O', 'O', 'O', 'O', 'B-PER', 'I-PER', 'O', 'O', 'O', 'O', 'O', 'O', 'O', 'O', 'O'], ['O', 'O', 'O', 'O', 'O', 'O', 'O', 'O', 'O', 'O', 'O', 'O', 'O', 'O', 'O', 'O', 'O'], ['O', 'B-PER', 'I-PER', 'O', 'O', 'O', 'O', 'O', 'O', 'O', 'O', 'O', 'O', 'O', 'O', 'O', 'O', 'O', 'O', 'O', 'O', 'O', 'O', 'O', 'O', 'O', 'O', 'O', 'O', 'O', 'O', 'O', 'O', 'O', 'O', 'O', 'O', 'O']]\n"
     ]
    }
   ],
   "source": [
    "from sklearn_crfsuite import metrics\n",
    "y_pred = crf.predict(X_test)\n",
    "print(y_pred)"
   ]
  },
  {
   "cell_type": "code",
   "execution_count": 32,
   "metadata": {},
   "outputs": [
    {
     "name": "stdout",
     "output_type": "stream",
     "text": [
      "              precision    recall  f1-score   support\n",
      "\n",
      "       B-PER       0.33      0.17      0.22         6\n",
      "       I-PER       0.33      0.20      0.25         5\n",
      "       B-ORG       0.00      0.00      0.00         7\n",
      "       I-ORG       0.00      0.00      0.00        15\n",
      "       B-LOC       0.00      0.00      0.00         1\n",
      "       I-LOC       0.00      0.00      0.00         0\n",
      "           O       0.71      0.95      0.81        83\n",
      "\n",
      "   micro avg       0.69      0.69      0.69       117\n",
      "   macro avg       0.20      0.19      0.18       117\n",
      "weighted avg       0.54      0.69      0.60       117\n",
      "\n"
     ]
    }
   ],
   "source": [
    "print(metrics.flat_classification_report(y_test, y_pred, labels = classes))"
   ]
  },
  {
   "cell_type": "code",
   "execution_count": null,
   "metadata": {},
   "outputs": [],
   "source": []
  }
 ],
 "metadata": {
  "kernelspec": {
   "display_name": "Python 3",
   "language": "python",
   "name": "python3"
  },
  "language_info": {
   "codemirror_mode": {
    "name": "ipython",
    "version": 3
   },
   "file_extension": ".py",
   "mimetype": "text/x-python",
   "name": "python",
   "nbconvert_exporter": "python",
   "pygments_lexer": "ipython3",
   "version": "3.7.3"
  }
 },
 "nbformat": 4,
 "nbformat_minor": 2
}
