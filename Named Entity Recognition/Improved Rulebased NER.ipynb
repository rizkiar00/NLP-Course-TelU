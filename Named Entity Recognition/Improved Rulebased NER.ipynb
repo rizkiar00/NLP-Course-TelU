{
 "cells": [
  {
   "cell_type": "code",
   "execution_count": 1,
   "metadata": {},
   "outputs": [],
   "source": [
    "lines = []\n",
    "with open('kalimat_POS_NE_train.txt', 'r') as f:\n",
    "    lines = f.readlines()"
   ]
  },
  {
   "cell_type": "code",
   "execution_count": 2,
   "metadata": {},
   "outputs": [],
   "source": [
    "counter_line = 0\n",
    "tokens = []\n",
    "postags = []\n",
    "labels = [\"B-PER\",\"I-PER\",\"B-ORG\",\"I-ORG\",\"B-LOC\",\"I-LOC\"]"
   ]
  },
  {
   "cell_type": "code",
   "execution_count": 3,
   "metadata": {},
   "outputs": [
    {
     "name": "stdout",
     "output_type": "stream",
     "text": [
      "['Kegiatan', 'Rapat', 'Pimpinan', 'Nasional', 'dibuka', 'oleh', 'Ketua', 'Umum', 'AMI', 'pusat', ',', 'Putu', 'Supadma', 'Rudana', ',', 'MBA', ',', 'Kamis', ',', '3', 'Oktober', 'tahun', '2019', '.']\n",
      "['NN', 'NN', 'NN', 'JJ', 'VBT', 'IN', 'NN', 'JJ', 'NN', 'NN', ',', 'NNP', 'NNP', 'NNP', ',', 'NNP', ',', 'NN', ',', 'CDP', 'NNP', 'NN', 'CDP', '.']\n",
      "['Kegiatan', 'Rapat', 'Pimpinan', 'Nasional', 'dibuka', 'oleh', 'Ketua', 'Umum', 'AMI', 'pusat', ',', 'Putu', 'Supadma', 'Rudana', ',', 'MBA', ',', 'Kamis', ',', '3', 'Oktober', 'tahun', '2019', '.']\n",
      "['O', 'O', 'O', 'O', 'O', 'O', 'O', 'O', 'O', 'O', 'O', 'B-PER', 'B-PER', 'B-PER', 'O', 'I-PER', 'O', 'I-PER', 'O', 'O', 'B-PER', 'O', 'O', 'O']\n",
      "['Menteri', 'Kelautan', 'dan', 'Perikanan', 'Susi', 'Pudjiastuti', 'meresmikan', 'Cold', 'Storage', '1.000', 'ton', 'di', 'Penjaringan', ',', 'Jakarta', 'Utara', '.']\n",
      "['NN', 'NN', 'CC', 'NN', 'NNP', 'NNP', 'VBT', 'NN', 'NN', 'CDP', 'NN', 'IN', 'NNP', ',', 'NNP', 'NN', '.']\n",
      "['Menteri', 'Kelautan', 'dan', 'Perikanan', 'Susi', 'Pudjiastuti', 'meresmikan', 'Cold', 'Storage', '1.000', 'ton', 'di', 'Penjaringan', ',', 'Jakarta', 'Utara', '.']\n",
      "['O', 'O', 'O', 'O', 'B-PER', 'B-PER', 'O', 'I-PER', 'I-PER', 'O', 'O', 'O', 'O', 'O', 'O', 'O', 'O']\n",
      "['Sri', 'Mulyani', 'Indrawati', 'berkesempatan', 'untuk', 'meresmikan', 'museum', 'dan', 'perpustakaan', 'baru', 'milik', 'Bea', 'Cukai', '.']\n",
      "['NN', 'NNP', 'NNP', 'VBI', 'IN', 'VBT', 'NN', 'CC', 'NN', 'JJ', 'VBT', 'NNP', 'NNP', '.']\n",
      "['Sri', 'Mulyani', 'Indrawati', 'berkesempatan', 'untuk', 'meresmikan', 'museum', 'dan', 'perpustakaan', 'baru', 'milik', 'Bea', 'Cukai', '.']\n",
      "['O', 'B-PER', 'B-PER', 'O', 'O', 'O', 'O', 'O', 'O', 'O', 'O', 'O', 'O', 'O']\n",
      "['Presiden', 'Jokowi', 'akan', 'meresmikan', 'jembatan', 'Holtekamp', 'di', 'Jayapura', ',', 'Papua', '.']\n",
      "['NN', 'NNP', 'MD', 'VBT', 'NN', 'NN', 'IN', 'NNP', ',', 'NNP', '.']\n",
      "['Presiden', 'Jokowi', 'akan', 'meresmikan', 'jembatan', 'Holtekamp', 'di', 'Jayapura', ',', 'Papua', '.']\n",
      "['O', 'B-PER', 'O', 'O', 'O', 'O', 'O', 'O', 'O', 'O', 'O']\n",
      "['Presiden', 'Joko', 'Widodo', 'meresmikan', 'pengoperasian', 'Palapa', 'Ring', '.']\n",
      "['NN', 'NNP', 'NNP', 'NNP', 'NNP', 'NNP', 'NNP', '.']\n",
      "['Presiden', 'Joko', 'Widodo', 'meresmikan', 'pengoperasian', 'Palapa', 'Ring', '.']\n",
      "['O', 'B-PER', 'B-PER', 'O', 'O', 'I-PER', 'I-PER', 'O']\n",
      "['Menteri', 'Darmin', 'resmikan', 'Kawasan', 'Ekonomi', 'Khusus', 'Sorong', '.']\n",
      "['NN', 'NN', 'NN', 'NN', 'NN', 'JJ', 'NNP', '.']\n",
      "['Menteri', 'Darmin', 'resmikan', 'Kawasan', 'Ekonomi', 'Khusus', 'Sorong', '.']\n",
      "['O', 'O', 'O', 'O', 'O', 'O', 'B-PER', 'O']\n",
      "['Menteri', 'Pertahanan', 'Prabowo', 'Subianto', 'meresmikan', 'patung', 'Panglima', 'Besar', 'Jenderal', 'Sudirman', '.']\n",
      "['NN', 'NN', 'NNP', 'NNP', 'VBT', 'NN', 'NN', 'JJ', 'NN', 'NNP', '.']\n",
      "['Menteri', 'Pertahanan', 'Prabowo', 'Subianto', 'meresmikan', 'patung', 'Panglima', 'Besar', 'Jenderal', 'Sudirman', '.']\n",
      "['O', 'O', 'B-PER', 'B-PER', 'O', 'O', 'O', 'O', 'O', 'O', 'O']\n",
      "['Menteri', 'PUPR', 'Basuki', 'Hadimuldjono', 'mewakili', 'Presiden', 'Joko', 'Widodo', 'meresmikan', 'Rumah', 'Susun', '(', 'Rusun', ')', 'di', 'lingkungan', 'Pondok', 'Pesantren', '.']\n",
      "['NN', 'NN', 'NN', 'NNP', 'VBT', 'NN', 'NNP', 'NNP', 'VBT', 'NN', 'NNP', 'OP', 'NNP', 'CP', 'IN', 'NN', 'NNP', 'NNP', '.']\n",
      "['Menteri', 'PUPR', 'Basuki', 'Hadimuldjono', 'mewakili', 'Presiden', 'Joko', 'Widodo', 'meresmikan', 'Rumah', 'Susun', '(', 'Rusun', ')', 'di', 'lingkungan', 'Pondok', 'Pesantren', '.']\n",
      "['O', 'O', 'O', 'B-PER', 'O', 'O', 'O', 'B-PER', 'O', 'B-PER', 'B-PER', 'O', 'O', 'O', 'O', 'O', 'B-PER', 'B-PER', 'O']\n",
      "['Menteri', 'Agama', 'Republik', 'Indonesia', ',', 'Jenderal', 'TNI', '(', 'Purn', ')', 'Fachrul', 'Razi', 'meresmikan', 'secara', 'simbolis', 'penggunaan', 'tiga', 'gedung', 'KUA', 'SBSN', 'di', 'Aceh', '.']\n",
      "['NN', 'NN', 'NN', 'NNP', ',', 'NN', 'NNP', 'OP', 'NNP', 'CP', 'NNP', 'NNP', 'VBT', 'IN', 'JJ', 'NN', 'CDP', 'NN', 'NN', 'NN', 'IN', 'NNP', '.']\n",
      "['Menteri', 'Agama', 'Republik', 'Indonesia', ',', 'Jenderal', 'TNI', '(', 'Purn', ')', 'Fachrul', 'Razi', 'meresmikan', 'secara', 'simbolis', 'penggunaan', 'tiga', 'gedung', 'KUA', 'SBSN', 'di', 'Aceh', '.']\n",
      "['O', 'O', 'O', 'B-PER', 'O', 'O', 'O', 'O', 'O', 'O', 'O', 'B-PER', 'O', 'O', 'O', 'O', 'O', 'O', 'O', 'O', 'O', 'O', 'O']\n"
     ]
    }
   ],
   "source": [
    "for line in lines:\n",
    "    line = line.rstrip('\\n')\n",
    "    if len(line)>1:\n",
    "        line_part = line.split(\" \")\n",
    "        tokens.append(line_part[0])\n",
    "        postags.append(line_part[1])\n",
    "    else:\n",
    "        print(tokens)\n",
    "        print(postags)\n",
    "        NE_labels = []\n",
    "        counter_token = 0\n",
    "        prev_NE_label = \"\"\n",
    "        prev_token = \"\"\n",
    "        for token in tokens:\n",
    "            if token[0].isupper() and postags[counter_token]=='NNP':\n",
    "                if prev_NE_label in labels:\n",
    "                    if prev_NE_label==\"B-PER\" or prev_NE_label == \"I-PER\":\n",
    "                        NE_labels.append(\"I-PER\")\n",
    "                    elif prev_NE_label == \"B-ORG\" or prev_NE_label == \"I-ORG\":\n",
    "                        NE_labels.append(\"I-ORG\")\n",
    "                    else:\n",
    "                        NE_labels.append(\"I-LOC\")\n",
    "                else:\n",
    "                    if prev_token == \"di\" or prev_token == \"ke\":\n",
    "                        NE_labels.append(\"B-LOC\")\n",
    "                    elif token.isupper():\n",
    "                        NE_labels.append(\"B-ORG\")\n",
    "                    else:\n",
    "                        NE_labels.append(\"B-PER\")\n",
    "            else:\n",
    "                NE_labels.append(\"O\")\n",
    "                prev_NE_label = NE_labels[counter_token]\n",
    "                prev_token = token\n",
    "                counter_token += 1\n",
    "        print(tokens)\n",
    "        print(NE_labels)\n",
    "        tokens = []\n",
    "        postags = []"
   ]
  },
  {
   "cell_type": "code",
   "execution_count": null,
   "metadata": {},
   "outputs": [],
   "source": []
  }
 ],
 "metadata": {
  "kernelspec": {
   "display_name": "Python 3",
   "language": "python",
   "name": "python3"
  },
  "language_info": {
   "codemirror_mode": {
    "name": "ipython",
    "version": 3
   },
   "file_extension": ".py",
   "mimetype": "text/x-python",
   "name": "python",
   "nbconvert_exporter": "python",
   "pygments_lexer": "ipython3",
   "version": "3.7.3"
  }
 },
 "nbformat": 4,
 "nbformat_minor": 2
}
